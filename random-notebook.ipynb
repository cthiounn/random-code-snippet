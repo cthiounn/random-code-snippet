{
 "cells": [
  {
   "cell_type": "code",
   "execution_count": null,
   "id": "0c4ff320-c366-4c02-a747-384dfe85c143",
   "metadata": {},
   "outputs": [],
   "source": [
    "import pandas as pd\n",
    "df = pd.read_csv(\"TGTG.csv\",sep=';',header=None)\n",
    "df[\"date\"]=pd.to_datetime(df[0],dayfirst=True)\n",
    "df=df.drop(columns=0)\n",
    "df['year'] = df['date'].dt.year\n",
    "df['month'] = df['date'].dt.month\n",
    "df.groupby(by=['year', 'month']).sum().plot(kind=\"bar\")"
   ]
  }
 ],
 "metadata": {
  "kernelspec": {
   "display_name": "Python 3 (ipykernel)",
   "language": "python",
   "name": "python3"
  },
  "language_info": {
   "codemirror_mode": {
    "name": "ipython",
    "version": 3
   },
   "file_extension": ".py",
   "mimetype": "text/x-python",
   "name": "python",
   "nbconvert_exporter": "python",
   "pygments_lexer": "ipython3",
   "version": "3.9.7"
  }
 },
 "nbformat": 4,
 "nbformat_minor": 5
}
