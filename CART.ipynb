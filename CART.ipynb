{
 "cells": [
  {
   "cell_type": "code",
   "execution_count": null,
   "id": "f6bcc2af-cc84-47a2-bffb-2155aa21d809",
   "metadata": {},
   "outputs": [],
   "source": [
    "%pip install graphviz   pydotplus\n",
    "# python-graphviz\n",
    "# conda install -c conda-forge python-graphviz"
   ]
  },
  {
   "cell_type": "code",
   "execution_count": null,
   "id": "a744806c-c7d6-4a1a-bf58-3134b938894e",
   "metadata": {},
   "outputs": [],
   "source": [
    "import numpy as np\n",
    "from sklearn.datasets import load_boston\n",
    "data = load_boston()\n",
    "X = data.data\n",
    "y = data.target\n",
    "from sklearn.model_selection import train_test_split\n",
    "X_train, X_test, y_train, y_test = train_test_split(X,y,random_state=17)"
   ]
  },
  {
   "cell_type": "code",
   "execution_count": null,
   "id": "ad89eceb-500c-4e72-a475-ae6bd331db5c",
   "metadata": {},
   "outputs": [],
   "source": [
    "from sklearn.tree import DecisionTreeRegressor\n",
    "dt = DecisionTreeRegressor(random_state=0).fit(X_train,y_train)"
   ]
  },
  {
   "cell_type": "code",
   "execution_count": null,
   "id": "e81ddcde-c733-4d9d-ad09-52eedf3dce9c",
   "metadata": {},
   "outputs": [],
   "source": [
    "import sklearn\n",
    "def tree_summary(dt:sklearn.tree._classes.DecisionTreeRegressor):\n",
    "    \n",
    "    print(f\" score train : {dt.score(X_train,y_train)}\")\n",
    "    print(f\" score test : {dt.score(X_test,y_test)}\")\n",
    "    print(f\" node count : {dt.tree_.node_count}\")\n",
    "    print(f\" max_depth : {dt.tree_.max_depth}\")"
   ]
  },
  {
   "cell_type": "code",
   "execution_count": null,
   "id": "2f5c2020-82a7-4f60-a241-e685b07cc72f",
   "metadata": {},
   "outputs": [],
   "source": [
    "tree_summary(dt)"
   ]
  },
  {
   "cell_type": "code",
   "execution_count": null,
   "id": "0a9c858e-7437-4bf0-a47f-f7768e256cb3",
   "metadata": {},
   "outputs": [],
   "source": [
    "dt2 = DecisionTreeRegressor(random_state=0,max_depth=3).fit(X_train,y_train)"
   ]
  },
  {
   "cell_type": "code",
   "execution_count": null,
   "id": "9d93af4c-d2ce-4a4b-b906-3fce14b933c2",
   "metadata": {},
   "outputs": [],
   "source": [
    "from six import StringIO\n",
    "from IPython.display import Image\n",
    "from sklearn.tree import export_graphviz\n",
    "from pydotplus import graph_from_dot_data\n",
    "foo = StringIO()\n",
    "export_graphviz(dt2,out_file=foo,impurity=False)\n",
    "graph = graph_from_dot_data(foo.getvalue())\n",
    "Image(graph.create_png())"
   ]
  },
  {
   "cell_type": "code",
   "execution_count": null,
   "id": "4ecd4ddb-9ce1-4515-8d87-013b8064c0c1",
   "metadata": {},
   "outputs": [],
   "source": [
    "from sklearn.tree import plot_tree\n",
    "import matplotlib.pyplot as plt\n",
    "\n",
    "fig, axes = plt.subplots(nrows = 1,ncols = 1,figsize = (4,4), dpi=300)\n",
    "\n",
    "plot_tree(dt2,feature_names = data.feature_names, \n",
    "               filled = True)\n",
    "fig.savefig('imagename.png')"
   ]
  },
  {
   "cell_type": "code",
   "execution_count": null,
   "id": "a0db2822-8dd8-4f66-86f4-c7ac9f57869f",
   "metadata": {},
   "outputs": [],
   "source": [
    "print(data.feature_names[12])\n",
    "print(data.feature_names[5])\n",
    "print(data.feature_names[7])\n",
    "print(data.feature_names[10])\n",
    "print(data.feature_names[0])"
   ]
  },
  {
   "cell_type": "code",
   "execution_count": null,
   "id": "d922ffd7-6b74-4457-a353-5dc735df414b",
   "metadata": {},
   "outputs": [],
   "source": [
    "from sklearn.model_selection import cross_val_score\n",
    "scores = cross_val_score(dt2, X, y, cv=10)\n",
    "scores"
   ]
  },
  {
   "cell_type": "code",
   "execution_count": null,
   "id": "4935690c-514f-47d1-8603-ae8ae03150b8",
   "metadata": {},
   "outputs": [],
   "source": [
    "from sklearn.model_selection import GridSearchCV\n",
    "parameters = {'max_depth':range(1,10)}\n",
    "dtr=DecisionTreeRegressor(random_state=0)\n",
    "clf = GridSearchCV(dtr, parameters,return_train_score=True,cv=10)"
   ]
  },
  {
   "cell_type": "code",
   "execution_count": null,
   "id": "1e15ed71-f8c9-4ee2-8307-5675bdf42017",
   "metadata": {},
   "outputs": [],
   "source": [
    "clf.fit(X, y)\n",
    "clf.cv_results_\n",
    "# clf.best_params_"
   ]
  },
  {
   "cell_type": "code",
   "execution_count": null,
   "id": "dd792a02-fe7a-427b-9061-0e7065d20cbe",
   "metadata": {},
   "outputs": [],
   "source": [
    "from sklearn.metrics import r2_score\n",
    "tree_summary(dt2)\n",
    "r2_score(dt2.predict(X_test),y_test)\n"
   ]
  },
  {
   "cell_type": "code",
   "execution_count": null,
   "id": "9f746b4c-3f90-4c65-899b-437165a7b13f",
   "metadata": {},
   "outputs": [],
   "source": [
    "from sklearn.utils import resample\n",
    "X_train_bis,y_train_bis=resample(X_train, y_train)\n",
    "dt=DecisionTreeRegressor(random_state=0,max_depth=3)\n",
    "dt.fit(X_train_bis,y_train_bis)\n",
    "tree_summary(dt)\n",
    "r2_score(dt.predict(X_test),y_test)"
   ]
  },
  {
   "cell_type": "code",
   "execution_count": null,
   "id": "957a5b22-0ad8-4a84-91c6-40f2c618e6cb",
   "metadata": {},
   "outputs": [],
   "source": [
    "from collections.abc import Sequence\n",
    "\n",
    "# def tree_aggregation(list_of_tree:Sequence[sklearn.tree._classes.DecisionTreeRegressor]):\n",
    "#     for tree in list_of_tree:\n",
    "#         print(r2_score(tree.predict(X_test),y_test))\n",
    "    \n",
    "# l=list([dt,dt2])\n",
    "# tree_aggregation(l)\n",
    "\n",
    "def sample_fit_and_score():\n",
    "    X_train_bis,y_train_bis=resample(X_train, y_train)\n",
    "    dt=DecisionTreeRegressor(random_state=0)\n",
    "    dt.fit(X_train_bis,y_train_bis)\n",
    "    return r2_score(dt.predict(X_test),y_test)\n",
    "\n",
    "def tree_aggregation(num_tree:int):\n",
    "    return sum([sample_fit_and_score() for _ in range(num_tree)])/num_tree\n",
    "tree_aggregation(5)"
   ]
  },
  {
   "cell_type": "code",
   "execution_count": null,
   "id": "0ed3a128-b764-4267-b945-25e81dd27bba",
   "metadata": {},
   "outputs": [],
   "source": [
    "from sklearn.ensemble import RandomForestRegressor\n",
    "rf = RandomForestRegressor(n_estimators=5).fit(X_train,y_train)\n",
    "rf.score(X,y)"
   ]
  }
 ],
 "metadata": {
  "kernelspec": {
   "display_name": "Python 3 (ipykernel)",
   "language": "python",
   "name": "python3"
  },
  "language_info": {
   "codemirror_mode": {
    "name": "ipython",
    "version": 3
   },
   "file_extension": ".py",
   "mimetype": "text/x-python",
   "name": "python",
   "nbconvert_exporter": "python",
   "pygments_lexer": "ipython3",
   "version": "3.9.7"
  }
 },
 "nbformat": 4,
 "nbformat_minor": 5
}
